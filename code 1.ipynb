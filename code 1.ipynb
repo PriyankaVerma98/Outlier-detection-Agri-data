{
 "cells": [
  {
   "cell_type": "code",
   "execution_count": 4,
   "metadata": {},
   "outputs": [
    {
     "data": {
      "text/plain": [
       "2979084"
      ]
     },
     "execution_count": 4,
     "metadata": {},
     "output_type": "execute_result"
    }
   ],
   "source": [
    "import pandas as pd\n",
    "import numpy as np\n",
    "import statistics\n",
    "df = pd.read_csv(\"C://Users//90821//Desktop//Cleaned_Data2012-13.csv\")\n",
    "df_concat = df[['Unnamed: 0', 'Commodity','Market Center', 'Modal Prices(in Rs/quintals)']]\n",
    "len(df_concat)"
   ]
  },
  {
   "cell_type": "code",
   "execution_count": 5,
   "metadata": {},
   "outputs": [],
   "source": [
    "flag = pd.DataFrame(np.nan, index=np.arange(0,2979085,1), columns=['flag'])"
   ]
  },
  {
   "cell_type": "code",
   "execution_count": 6,
   "metadata": {},
   
    }
   ],
   "source": [
    "list_commodity = df_concat[\"Commodity\"].unique().tolist() \n",
    "for q, qval in enumerate(list_commodity):\n",
    "    d = df_concat[df_concat[\"Commodity\"] == qval ] \n",
    "    \n",
    "    \n",
    "    list_marketcenter = d[\"Market Center\"].unique().tolist()\n",
    "    for i, val in enumerate(list_marketcenter):\n",
    "          \n",
    "        c = d[d[\"Market Center\"] == val ]\n",
    "            \n",
    "        try:\n",
    "            CV = (statistics.stdev(c[\"Modal Prices(in Rs/quintals)\"]))/(c[\"Modal Prices(in Rs/quintals)\"].mean())    \n",
    "            difference = c[\"Modal Prices(in Rs/quintals)\"] - (c[\"Modal Prices(in Rs/quintals)\"].rolling(window=7, min_periods = 6, center = True).mean())\n",
    "\n",
    "            for j in c[\"Unnamed: 0\"]:  \n",
    "            \n",
    "                if abs(difference[j]) >= CV:\n",
    "                    flag.loc[[j],['flag']] = 1\n",
    "\n",
    "                else:\n",
    "                    flag.loc[[j],['flag']] = 0\n",
    "\n",
    "        except:\n",
    "            print(c[\"Unnamed: 0\"])\n",
    "            continue\n",
    "del c\n",
    "del d"
   ]
  },
  {
   "cell_type": "code",
   "execution_count": 7,
   "metadata": {},
   "outputs": [
    {
     "name": "stderr",
     "output_type": "stream",
     "text": [
      "IOPub data rate exceeded.\n",
      "The notebook server will temporarily stop sending output\n",
      "to the client in order to avoid crashing it.\n",
      "To change this limit, set the config variable\n",
      "`--NotebookApp.iopub_data_rate_limit`.\n",
      "\n",
      "Current values:\n",
      "NotebookApp.iopub_data_rate_limit=1000000.0 (bytes/sec)\n",
      "NotebookApp.rate_limit_window=3.0 (secs)\n",
      "\n"
     ]
    }
   ],
   "source": [
    "with pd.option_context('display.max_rows', None, 'display.max_columns', None):\n",
    "    print(flag)"
   ]
  },
  {
   "cell_type": "code",
   "execution_count": 8,
   "metadata": {},
   "outputs": [],
   "source": [
    "from pandas import ExcelWriter\n",
    "\n",
    "writer = ExcelWriter('Flag.xlsx')\n",
    "flag.to_excel(writer,'Sheet1')\n",
    "writer.save()"
   ]
  },
  {
   "cell_type": "code",
   "execution_count": 9,
   "metadata": {},
   "outputs": [],
   "source": [
    "f1 = pd.read_excel(\"C:\\\\Users\\\\90821\\\\Flag.xlsx\")"
   ]
  },
  {
   "cell_type": "code",
   "execution_count": 10,
   "metadata": {},
   "outputs": [
    {
     "data": {
      "text/plain": [
       "1048575"
      ]
     },
     "execution_count": 10,
     "metadata": {},
     "output_type": "execute_result"
    }
   ],
   "source": [
    "len(f1)"
   ]
  }
 ],
 "metadata": {
  "kernelspec": {
   "display_name": "Python 3",
   "language": "python",
   "name": "python3"
  },
  "language_info": {
   "codemirror_mode": {
    "name": "ipython",
    "version": 3
   },
   "file_extension": ".py",
   "mimetype": "text/x-python",
   "name": "python",
   "nbconvert_exporter": "python",
   "pygments_lexer": "ipython3",
   "version": "3.7.3"
  }
 },
 "nbformat": 4,
 "nbformat_minor": 2
}
